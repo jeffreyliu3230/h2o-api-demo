{
 "cells": [
  {
   "cell_type": "markdown",
   "metadata": {},
   "source": [
    "# Using H2O's Restful API in Python to Read, Train, and Export Models"
   ]
  },
  {
   "cell_type": "markdown",
   "metadata": {},
   "source": [
    "Buidling a model scoring application in production is greatly benefited from H2O's ability to export models to [MOJOs](http://www.highdimensional.space/2017/12/19/scoring-h2o-mojo-models-with-spark-dataframe-and-dataset/) which allows scoring large datasets in Spark without native H2O dependency. However, the model training process is still hard to productionize given the nature of how data scientists work. H2O's Restful API provides a solution to standardize the model training performance by allowing the model training application to run from any environment without the need of installing H2O. The following script will demo how to make simple API calls to the H2O cluster (run on localhost) to import a sample csv file, parse the file, create a H2OFrame, train a gbm model, and export the model to MOJOs format."
   ]
  },
  {
   "cell_type": "markdown",
   "metadata": {},
   "source": [
    "### Prerequisites\n",
    "#### Install H2O if you have not\n",
    "In command line run:\n",
    "```\n",
    "pip install requests\n",
    "pip install tabulate\n",
    "pip install \"colorama>=0.3.8\"\n",
    "pip install future\n",
    "pip install -f http://h2o-release.s3.amazonaws.com/h2o/latest_stable_Py.html h2o\n",
    "```"
   ]
  },
  {
   "cell_type": "markdown",
   "metadata": {},
   "source": [
    "**0a. Import libraries**\n"
   ]
  },
  {
   "cell_type": "code",
   "execution_count": 6,
   "metadata": {},
   "outputs": [
    {
     "name": "stdout",
     "output_type": "stream",
     "text": [
      "Checking whether there is an H2O instance running at http://localhost:54321..... not found.\n",
      "Attempting to start a local H2O server...\n",
      "  Java Version: java version \"1.8.0_144\"; Java(TM) SE Runtime Environment (build 1.8.0_144-b01); Java HotSpot(TM) 64-Bit Server VM (build 25.144-b01, mixed mode)\n",
      "  Starting server from /usr/local/lib/python3.7/site-packages/h2o/backend/bin/h2o.jar\n",
      "  Ice root: /var/folders/8y/bj6bvwyx3qxb_y7t17ztm78j3sf4sg/T/tmp59ehn4bx\n",
      "  JVM stdout: /var/folders/8y/bj6bvwyx3qxb_y7t17ztm78j3sf4sg/T/tmp59ehn4bx/h2o_liuji_started_from_python.out\n",
      "  JVM stderr: /var/folders/8y/bj6bvwyx3qxb_y7t17ztm78j3sf4sg/T/tmp59ehn4bx/h2o_liuji_started_from_python.err\n",
      "  Server is running at http://127.0.0.1:54321\n",
      "Connecting to H2O server at http://127.0.0.1:54321... successful.\n"
     ]
    },
    {
     "data": {
      "text/html": [
       "<div style=\"overflow:auto\"><table style=\"width:50%\"><tr><td>H2O cluster uptime:</td>\n",
       "<td>01 secs</td></tr>\n",
       "<tr><td>H2O cluster timezone:</td>\n",
       "<td>America/New_York</td></tr>\n",
       "<tr><td>H2O data parsing timezone:</td>\n",
       "<td>UTC</td></tr>\n",
       "<tr><td>H2O cluster version:</td>\n",
       "<td>3.20.0.6</td></tr>\n",
       "<tr><td>H2O cluster version age:</td>\n",
       "<td>6 days </td></tr>\n",
       "<tr><td>H2O cluster name:</td>\n",
       "<td>H2O_from_python_liuji_cmxjh8</td></tr>\n",
       "<tr><td>H2O cluster total nodes:</td>\n",
       "<td>1</td></tr>\n",
       "<tr><td>H2O cluster free memory:</td>\n",
       "<td>3.556 Gb</td></tr>\n",
       "<tr><td>H2O cluster total cores:</td>\n",
       "<td>8</td></tr>\n",
       "<tr><td>H2O cluster allowed cores:</td>\n",
       "<td>8</td></tr>\n",
       "<tr><td>H2O cluster status:</td>\n",
       "<td>accepting new members, healthy</td></tr>\n",
       "<tr><td>H2O connection url:</td>\n",
       "<td>http://127.0.0.1:54321</td></tr>\n",
       "<tr><td>H2O connection proxy:</td>\n",
       "<td>None</td></tr>\n",
       "<tr><td>H2O internal security:</td>\n",
       "<td>False</td></tr>\n",
       "<tr><td>H2O API Extensions:</td>\n",
       "<td>XGBoost, Algos, AutoML, Core V3, Core V4</td></tr>\n",
       "<tr><td>Python version:</td>\n",
       "<td>3.7.0 final</td></tr></table></div>"
      ],
      "text/plain": [
       "--------------------------  ----------------------------------------\n",
       "H2O cluster uptime:         01 secs\n",
       "H2O cluster timezone:       America/New_York\n",
       "H2O data parsing timezone:  UTC\n",
       "H2O cluster version:        3.20.0.6\n",
       "H2O cluster version age:    6 days\n",
       "H2O cluster name:           H2O_from_python_liuji_cmxjh8\n",
       "H2O cluster total nodes:    1\n",
       "H2O cluster free memory:    3.556 Gb\n",
       "H2O cluster total cores:    8\n",
       "H2O cluster allowed cores:  8\n",
       "H2O cluster status:         accepting new members, healthy\n",
       "H2O connection url:         http://127.0.0.1:54321\n",
       "H2O connection proxy:\n",
       "H2O internal security:      False\n",
       "H2O API Extensions:         XGBoost, Algos, AutoML, Core V3, Core V4\n",
       "Python version:             3.7.0 final\n",
       "--------------------------  ----------------------------------------"
      ]
     },
     "metadata": {},
     "output_type": "display_data"
    }
   ],
   "source": [
    "import h2o\n",
    "import requests\n",
    "from requests.compat import urljoin, quote_plus\n",
    "from time import sleep\n",
    "h2o.init()"
   ]
  },
  {
   "cell_type": "markdown",
   "metadata": {},
   "source": [
    "**0b. Define variables**"
   ]
  },
  {
   "cell_type": "code",
   "execution_count": 3,
   "metadata": {},
   "outputs": [],
   "source": [
    "base_url = 'http://127.0.0.1:54321/3/'\n",
    "import_url = urljoin(base_url, \"ImportFiles\")\n",
    "parse_setup_url = urljoin(base_url, \"ParseSetup\")\n",
    "parse_url = urljoin(base_url, \"Parse\")\n",
    "jobs_url = urljoin(base_url, 'Jobs')\n",
    "gbm_url = urljoin(base_url, 'ModelBuilders/gbm')\n",
    "xgboost_url = urljoin(base_url, 'ModelBuilders/xgboost')"
   ]
  },
  {
   "cell_type": "markdown",
   "metadata": {},
   "source": [
    "We need a function for job polling since when the model training starts we need to wait until it finishes to proceed to the next steps. The funciton will check the job status given the job id and will return the results once it's finished."
   ]
  },
  {
   "cell_type": "code",
   "execution_count": 35,
   "metadata": {},
   "outputs": [],
   "source": [
    "# Define the helper function\n",
    "def poll(job_key):\n",
    "    while True:\n",
    "        try:\n",
    "            r = requests.get(jobs_url + '/' + quote_plus(job_key))\n",
    "        except:\n",
    "            print(\"Catched error\")\n",
    "            raise\n",
    "        response = r.json()\n",
    "        jobs = response['jobs']\n",
    "        if len(jobs) != 1:\n",
    "            raise RuntimeError('Could not find the job')\n",
    "        else:    \n",
    "            status = response['jobs'][0]['status']\n",
    "            if status != 'RUNNING':\n",
    "                print(status)\n",
    "                break\n",
    "            else:\n",
    "                sleep(1)\n",
    "                print(\"RUNNING\")\n",
    "                print('progress: {0}'.format(response['jobs'][0]['progress']))\n",
    "    return response['jobs'][0]"
   ]
  },
  {
   "cell_type": "markdown",
   "metadata": {},
   "source": [
    "**0c. Download the sample training file**\n",
    "\n",
    "Dataset description: https://www.kaggle.com/blastchar/telco-customer-churn\n",
    "\n",
    "The version of the data in this script includes a binary response variable created from the originial Churn variable."
   ]
  },
  {
   "cell_type": "code",
   "execution_count": 118,
   "metadata": {},
   "outputs": [],
   "source": [
    "filepath = 'https://raw.githubusercontent.com/jeffreyliu3230/h2o-api-demo/master/telco_customer_churn.csv'"
   ]
  },
  {
   "cell_type": "markdown",
   "metadata": {},
   "source": [
    "**2. Make a sample request for importing data using H2O's import API**"
   ]
  },
  {
   "cell_type": "code",
   "execution_count": 119,
   "metadata": {},
   "outputs": [],
   "source": [
    "import_params = {'path': filepath}"
   ]
  },
  {
   "cell_type": "code",
   "execution_count": 175,
   "metadata": {},
   "outputs": [],
   "source": [
    "r = requests.get(import_url, params=import_params)"
   ]
  },
  {
   "cell_type": "code",
   "execution_count": 176,
   "metadata": {},
   "outputs": [
    {
     "data": {
      "text/plain": [
       "b'{\"__meta\":{\"schema_version\":3,\"schema_name\":\"ImportFilesV3\",\"schema_type\":\"ImportFiles\"},\"_exclude_fields\":\"\",\"path\":\"https://raw.githubusercontent.com/jeffreyliu3230/h2o-api-demo/master/telco_customer_churn.csv\",\"pattern\":null,\"files\":[\"https://raw.githubusercontent.com/jeffreyliu3230/h2o-api-demo/master/telco_customer_churn.csv\"],\"destination_frames\":[\"https://raw.githubusercontent.com/jeffreyliu3230/h2o-api-demo/master/telco_customer_churn.csv\"],\"fails\":[],\"dels\":[]}'"
      ]
     },
     "execution_count": 176,
     "metadata": {},
     "output_type": "execute_result"
    }
   ],
   "source": [
    "r.content"
   ]
  },
  {
   "cell_type": "code",
   "execution_count": 177,
   "metadata": {},
   "outputs": [],
   "source": [
    "# Retrieve content\n",
    "import_result = r.json()"
   ]
  },
  {
   "cell_type": "code",
   "execution_count": 178,
   "metadata": {},
   "outputs": [
    {
     "name": "stdout",
     "output_type": "stream",
     "text": [
      "['https://raw.githubusercontent.com/jeffreyliu3230/h2o-api-demo/master/telco_customer_churn.csv']\n"
     ]
    }
   ],
   "source": [
    "destination_frames = import_result['destination_frames']\n",
    "print(destination_frames)"
   ]
  },
  {
   "cell_type": "markdown",
   "metadata": {},
   "source": [
    "**3.Parse setup**"
   ]
  },
  {
   "cell_type": "code",
   "execution_count": 179,
   "metadata": {},
   "outputs": [],
   "source": [
    "# Specify the data parameters for setting up the data parsing step\n",
    "data_params = {'source_frames': destination_frames}"
   ]
  },
  {
   "cell_type": "code",
   "execution_count": 180,
   "metadata": {},
   "outputs": [],
   "source": [
    "r = requests.post(parse_setup_url, data=data_params)"
   ]
  },
  {
   "cell_type": "code",
   "execution_count": 181,
   "metadata": {},
   "outputs": [],
   "source": [
    "parse_setup_result = r.json()"
   ]
  },
  {
   "cell_type": "code",
   "execution_count": 218,
   "metadata": {},
   "outputs": [
    {
     "data": {
      "text/plain": [
       "{'__meta': {'schema_version': 3,\n",
       "  'schema_name': 'ParseSetupV3',\n",
       "  'schema_type': 'ParseSetup'},\n",
       " '_exclude_fields': '',\n",
       " 'source_frames': [{'__meta': {'schema_version': 3,\n",
       "    'schema_name': 'FrameKeyV3',\n",
       "    'schema_type': 'Key<Frame>'},\n",
       "   'name': 'https://raw.githubusercontent.com/jeffreyliu3230/h2o-api-demo/master/telco_customer_churn.csv',\n",
       "   'type': 'Key<Frame>',\n",
       "   'URL': '/3/Frames/https://raw.githubusercontent.com/jeffreyliu3230/h2o-api-demo/master/telco_customer_churn.csv'}],\n",
       " 'parse_type': 'CSV',\n",
       " 'separator': 44,\n",
       " 'single_quotes': False,\n",
       " 'check_header': 1,\n",
       " 'column_names': ['customerID',\n",
       "  'gender',\n",
       "  'SeniorCitizen',\n",
       "  'Partner',\n",
       "  'Dependents',\n",
       "  'tenure',\n",
       "  'PhoneService',\n",
       "  'MultipleLines',\n",
       "  'InternetService',\n",
       "  'OnlineSecurity',\n",
       "  'OnlineBackup',\n",
       "  'DeviceProtection',\n",
       "  'TechSupport',\n",
       "  'StreamingTV',\n",
       "  'StreamingMovies',\n",
       "  'Contract',\n",
       "  'PaperlessBilling',\n",
       "  'PaymentMethod',\n",
       "  'MonthlyCharges',\n",
       "  'TotalCharges',\n",
       "  'Churn',\n",
       "  'ChurnResponse'],\n",
       " 'column_types': ['String',\n",
       "  'Enum',\n",
       "  'Numeric',\n",
       "  'Enum',\n",
       "  'Enum',\n",
       "  'Numeric',\n",
       "  'Enum',\n",
       "  'Enum',\n",
       "  'Enum',\n",
       "  'Enum',\n",
       "  'Enum',\n",
       "  'Enum',\n",
       "  'Enum',\n",
       "  'Enum',\n",
       "  'Enum',\n",
       "  'Enum',\n",
       "  'Enum',\n",
       "  'Enum',\n",
       "  'Numeric',\n",
       "  'Numeric',\n",
       "  'Enum',\n",
       "  'Enum'],\n",
       " 'na_strings': None,\n",
       " 'column_name_filter': None,\n",
       " 'column_offset': 0,\n",
       " 'column_count': 0,\n",
       " 'destination_frame': 'telco_customer_churn1.hex',\n",
       " 'header_lines': 0,\n",
       " 'number_columns': 22,\n",
       " 'data': [['7590-VHVEG',\n",
       "   'Female',\n",
       "   '0',\n",
       "   'Yes',\n",
       "   'No',\n",
       "   '1',\n",
       "   'No',\n",
       "   'No phone service',\n",
       "   'DSL',\n",
       "   'No',\n",
       "   'Yes',\n",
       "   'No',\n",
       "   'No',\n",
       "   'No',\n",
       "   'No',\n",
       "   'Month-to-month',\n",
       "   'Yes',\n",
       "   'Electronic check',\n",
       "   '29.85',\n",
       "   '29.85',\n",
       "   'No',\n",
       "   '0'],\n",
       "  ['5575-GNVDE',\n",
       "   'Male',\n",
       "   '0',\n",
       "   'No',\n",
       "   'No',\n",
       "   '34',\n",
       "   'Yes',\n",
       "   'No',\n",
       "   'DSL',\n",
       "   'Yes',\n",
       "   'No',\n",
       "   'Yes',\n",
       "   'No',\n",
       "   'No',\n",
       "   'No',\n",
       "   'One year',\n",
       "   'No',\n",
       "   'Mailed check',\n",
       "   '56.95',\n",
       "   '1889.5',\n",
       "   'No',\n",
       "   '0'],\n",
       "  ['3668-QPYBK',\n",
       "   'Male',\n",
       "   '0',\n",
       "   'No',\n",
       "   'No',\n",
       "   '2',\n",
       "   'Yes',\n",
       "   'No',\n",
       "   'DSL',\n",
       "   'Yes',\n",
       "   'Yes',\n",
       "   'No',\n",
       "   'No',\n",
       "   'No',\n",
       "   'No',\n",
       "   'Month-to-month',\n",
       "   'Yes',\n",
       "   'Mailed check',\n",
       "   '53.85',\n",
       "   '108.15',\n",
       "   'Yes',\n",
       "   '1'],\n",
       "  ['7795-CFOCW',\n",
       "   'Male',\n",
       "   '0',\n",
       "   'No',\n",
       "   'No',\n",
       "   '45',\n",
       "   'No',\n",
       "   'No phone service',\n",
       "   'DSL',\n",
       "   'Yes',\n",
       "   'No',\n",
       "   'Yes',\n",
       "   'Yes',\n",
       "   'No',\n",
       "   'No',\n",
       "   'One year',\n",
       "   'No',\n",
       "   'Bank transfer (automatic)',\n",
       "   '42.3',\n",
       "   '1840.75',\n",
       "   'No',\n",
       "   '0'],\n",
       "  ['9237-HQITU',\n",
       "   'Female',\n",
       "   '0',\n",
       "   'No',\n",
       "   'No',\n",
       "   '2',\n",
       "   'Yes',\n",
       "   'No',\n",
       "   'Fiber optic',\n",
       "   'No',\n",
       "   'No',\n",
       "   'No',\n",
       "   'No',\n",
       "   'No',\n",
       "   'No',\n",
       "   'Month-to-month',\n",
       "   'Yes',\n",
       "   'Electronic check',\n",
       "   '70.7',\n",
       "   '151.65',\n",
       "   'Yes',\n",
       "   '1'],\n",
       "  ['9305-CDSKC',\n",
       "   'Female',\n",
       "   '0',\n",
       "   'No',\n",
       "   'No',\n",
       "   '8',\n",
       "   'Yes',\n",
       "   'Yes',\n",
       "   'Fiber optic',\n",
       "   'No',\n",
       "   'No',\n",
       "   'Yes',\n",
       "   'No',\n",
       "   'Yes',\n",
       "   'Yes',\n",
       "   'Month-to-month',\n",
       "   'Yes',\n",
       "   'Electronic check',\n",
       "   '99.65',\n",
       "   '820.5',\n",
       "   'Yes',\n",
       "   '1'],\n",
       "  ['1452-KIOVK',\n",
       "   'Male',\n",
       "   '0',\n",
       "   'No',\n",
       "   'Yes',\n",
       "   '22',\n",
       "   'Yes',\n",
       "   'Yes',\n",
       "   'Fiber optic',\n",
       "   'No',\n",
       "   'Yes',\n",
       "   'No',\n",
       "   'No',\n",
       "   'Yes',\n",
       "   'No',\n",
       "   'Month-to-month',\n",
       "   'Yes',\n",
       "   'Credit card (automatic)',\n",
       "   '89.1',\n",
       "   '1949.4',\n",
       "   'No',\n",
       "   '0'],\n",
       "  ['6713-OKOMC',\n",
       "   'Female',\n",
       "   '0',\n",
       "   'No',\n",
       "   'No',\n",
       "   '10',\n",
       "   'No',\n",
       "   'No phone service',\n",
       "   'DSL',\n",
       "   'Yes',\n",
       "   'No',\n",
       "   'No',\n",
       "   'No',\n",
       "   'No',\n",
       "   'No',\n",
       "   'Month-to-month',\n",
       "   'No',\n",
       "   'Mailed check',\n",
       "   '29.75',\n",
       "   '301.9',\n",
       "   'No',\n",
       "   '0'],\n",
       "  ['7892-POOKP',\n",
       "   'Female',\n",
       "   '0',\n",
       "   'Yes',\n",
       "   'No',\n",
       "   '28',\n",
       "   'Yes',\n",
       "   'Yes',\n",
       "   'Fiber optic',\n",
       "   'No',\n",
       "   'No',\n",
       "   'Yes',\n",
       "   'Yes',\n",
       "   'Yes',\n",
       "   'Yes',\n",
       "   'Month-to-month',\n",
       "   'Yes',\n",
       "   'Electronic check',\n",
       "   '104.8',\n",
       "   '3046.05',\n",
       "   'Yes',\n",
       "   '1']],\n",
       " 'warnings': None,\n",
       " 'chunk_size': 30768,\n",
       " 'total_filtered_column_count': 22,\n",
       " 'decrypt_tool': None}"
      ]
     },
     "execution_count": 218,
     "metadata": {},
     "output_type": "execute_result"
    }
   ],
   "source": [
    "parse_setup_result"
   ]
  },
  {
   "cell_type": "markdown",
   "metadata": {},
   "source": [
    "Set the response variable to factor so that H2O will train a classification model instead of a regression model\n"
   ]
  },
  {
   "cell_type": "code",
   "execution_count": 227,
   "metadata": {},
   "outputs": [],
   "source": [
    "parse_setup_result['column_types'][-1] = 'Enum'"
   ]
  },
  {
   "cell_type": "markdown",
   "metadata": {},
   "source": [
    "**4. Parse**"
   ]
  },
  {
   "cell_type": "code",
   "execution_count": 185,
   "metadata": {},
   "outputs": [],
   "source": [
    "parse_params = {'destination_frame': 'telco_customer_churn.hex',\n",
    "                'source_frames': [parse_setup_result['source_frames'][0]['name']],\n",
    "                'parse_type': parse_setup_result['parse_type'], \n",
    "                'separator': parse_setup_result['separator'],\n",
    "                'number_columns': parse_setup_result['number_columns'],\n",
    "                'single_quotes': parse_setup_result['single_quotes'],\n",
    "                'column_names': parse_setup_result['column_names'],\n",
    "                'column_types': parse_setup_result['column_types'],\n",
    "                'check_header': parse_setup_result['check_header'],\n",
    "                'delete_on_done': 'false',\n",
    "                'chunk_size': parse_setup_result['chunk_size']}"
   ]
  },
  {
   "cell_type": "code",
   "execution_count": 186,
   "metadata": {},
   "outputs": [],
   "source": [
    "r = requests.post(parse_url, data=parse_params)"
   ]
  },
  {
   "cell_type": "code",
   "execution_count": 187,
   "metadata": {},
   "outputs": [],
   "source": [
    "parse_result = r.json()"
   ]
  },
  {
   "cell_type": "code",
   "execution_count": 188,
   "metadata": {},
   "outputs": [
    {
     "name": "stdout",
     "output_type": "stream",
     "text": [
      "DONE\n"
     ]
    }
   ],
   "source": [
    "parse_result = poll(parse_result['job']['key']['name'])"
   ]
  },
  {
   "cell_type": "code",
   "execution_count": 189,
   "metadata": {},
   "outputs": [
    {
     "data": {
      "text/plain": [
       "{'__meta': {'schema_version': 3, 'schema_name': 'JobV3', 'schema_type': 'Job'},\n",
       " 'key': {'__meta': {'schema_version': 3,\n",
       "   'schema_name': 'JobKeyV3',\n",
       "   'schema_type': 'Key<Job>'},\n",
       "  'name': '$03017f00000132d4ffffffff$_a4d397e3ff1f81e0a0795bbe8eae4fab',\n",
       "  'type': 'Key<Job>',\n",
       "  'URL': '/3/Jobs/$03017f00000132d4ffffffff$_a4d397e3ff1f81e0a0795bbe8eae4fab'},\n",
       " 'description': 'Parse',\n",
       " 'status': 'DONE',\n",
       " 'progress': 1.0,\n",
       " 'progress_msg': 'Done.',\n",
       " 'start_time': 1535769130566,\n",
       " 'msec': 467,\n",
       " 'dest': {'__meta': {'schema_version': 3,\n",
       "   'schema_name': 'FrameKeyV3',\n",
       "   'schema_type': 'Key<Frame>'},\n",
       "  'name': 'telco_customer_churn.hex',\n",
       "  'type': 'Key<Frame>',\n",
       "  'URL': '/3/Frames/telco_customer_churn.hex'},\n",
       " 'warnings': None,\n",
       " 'exception': None,\n",
       " 'stacktrace': None,\n",
       " 'ready_for_view': True}"
      ]
     },
     "execution_count": 189,
     "metadata": {},
     "output_type": "execute_result"
    }
   ],
   "source": [
    "parse_result"
   ]
  },
  {
   "cell_type": "markdown",
   "metadata": {},
   "source": [
    "**5. Training**"
   ]
  },
  {
   "cell_type": "code",
   "execution_count": 190,
   "metadata": {},
   "outputs": [],
   "source": [
    "# Define columns used for training\n",
    "train_columns = ['gender',\n",
    "                 'SeniorCitizen',\n",
    "                 'Partner',\n",
    "                 'Dependents',\n",
    "                 'tenure',\n",
    "                 'PhoneService',\n",
    "                 'MultipleLines',\n",
    "                 'InternetService',\n",
    "                 'OnlineSecurity',\n",
    "                 'OnlineBackup',\n",
    "                 'DeviceProtection',\n",
    "                 'TechSupport',\n",
    "                 'StreamingTV',\n",
    "                 'StreamingMovies',\n",
    "                 'Contract',\n",
    "                 'PaperlessBilling',\n",
    "                 'PaymentMethod',\n",
    "                 'MonthlyCharges',\n",
    "                 'TotalCharges',\n",
    "                 'ChurnResponse']\n",
    "ignored_columns = [x for x in parse_params['column_names'] if not x in train_columns]"
   ]
  },
  {
   "cell_type": "code",
   "execution_count": 216,
   "metadata": {},
   "outputs": [],
   "source": [
    "# Define model training parameters\n",
    "gbm1_params = {'model_id': 'gbm_test',\n",
    "               'response_column': 'ChurnResponse',\n",
    "               'ignored_columns': ignored_columns,\n",
    "               'training_frame': parse_result['dest']['name'],\n",
    "               'distribution': \"AUTO\",\n",
    "               'ntrees': 20,\n",
    "               'max_depth': 8,\n",
    "               'min_rows': 2,\n",
    "               'learn_rate': 0.4,\n",
    "               'nfolds': 5,\n",
    "               \"fold_assignment\": \"Stratified\",\n",
    "               'keep_cross_validation_predictions': 'true',\n",
    "               'seed': 2018}"
   ]
  },
  {
   "cell_type": "code",
   "execution_count": 211,
   "metadata": {},
   "outputs": [],
   "source": [
    "r = requests.post(gbm_url, data=gbm1_params)"
   ]
  },
  {
   "cell_type": "code",
   "execution_count": 212,
   "metadata": {},
   "outputs": [],
   "source": [
    "train_result = r.json()"
   ]
  },
  {
   "cell_type": "code",
   "execution_count": 213,
   "metadata": {},
   "outputs": [
    {
     "name": "stdout",
     "output_type": "stream",
     "text": [
      "RUNNING\n",
      "progress: 0.7083333\n",
      "DONE\n"
     ]
    }
   ],
   "source": [
    "train_result = poll(train_result['job']['key']['name'])"
   ]
  },
  {
   "cell_type": "code",
   "execution_count": 214,
   "metadata": {},
   "outputs": [
    {
     "data": {
      "text/plain": [
       "{'__meta': {'schema_version': 3, 'schema_name': 'JobV3', 'schema_type': 'Job'},\n",
       " 'key': {'__meta': {'schema_version': 3,\n",
       "   'schema_name': 'JobKeyV3',\n",
       "   'schema_type': 'Key<Job>'},\n",
       "  'name': '$03017f00000132d4ffffffff$_92b96d9908738e6394a46a5620b64b1e',\n",
       "  'type': 'Key<Job>',\n",
       "  'URL': '/3/Jobs/$03017f00000132d4ffffffff$_92b96d9908738e6394a46a5620b64b1e'},\n",
       " 'description': 'GBM',\n",
       " 'status': 'DONE',\n",
       " 'progress': 1.0,\n",
       " 'progress_msg': 'Done.',\n",
       " 'start_time': 1535769504759,\n",
       " 'msec': 2044,\n",
       " 'dest': {'__meta': {'schema_version': 3,\n",
       "   'schema_name': 'ModelKeyV3',\n",
       "   'schema_type': 'Key<Model>'},\n",
       "  'name': 'gbm_test',\n",
       "  'type': 'Key<Model>',\n",
       "  'URL': '/3/Models/gbm_test'},\n",
       " 'warnings': None,\n",
       " 'exception': None,\n",
       " 'stacktrace': None,\n",
       " 'ready_for_view': True}"
      ]
     },
     "execution_count": 214,
     "metadata": {},
     "output_type": "execute_result"
    }
   ],
   "source": [
    "train_result"
   ]
  },
  {
   "cell_type": "code",
   "execution_count": 226,
   "metadata": {},
   "outputs": [
    {
     "data": {
      "text/plain": [
       "'{\"__meta\":{\"schema_version\":3,\"schema_name\":\"ModelsV3\",\"schema_type\":\"Models\"},\"_exclude_fields\":\"\",\"models\":[{\"__meta\":{\"schema_version\":3,\"schema_name\":\"GBMModelV3\",\"schema_type\":\"GBMModel\"},\"model_id\":{\"__meta\":{\"schema_version\":3,\"schema_name\":\"ModelKeyV3\",\"schema_type\":\"Key<Model>\"},\"name\":\"gbm'"
      ]
     },
     "execution_count": 226,
     "metadata": {},
     "output_type": "execute_result"
    }
   ],
   "source": [
    "# view model\n",
    "r = requests.get(base_url + 'Models/gbm_test')\n",
    "r.text[0:300]"
   ]
  },
  {
   "cell_type": "markdown",
   "metadata": {},
   "source": [
    "**6. Save the model to MOJO**"
   ]
  },
  {
   "cell_type": "code",
   "execution_count": 321,
   "metadata": {},
   "outputs": [],
   "source": [
    "r = requests.get(base_url + 'Models/gbm_test/mojo', stream=True)"
   ]
  },
  {
   "cell_type": "code",
   "execution_count": 324,
   "metadata": {},
   "outputs": [
    {
     "data": {
      "text/plain": [
       "bytes"
      ]
     },
     "execution_count": 324,
     "metadata": {},
     "output_type": "execute_result"
    }
   ],
   "source": [
    "type(r.content)"
   ]
  },
  {
   "cell_type": "code",
   "execution_count": 323,
   "metadata": {},
   "outputs": [],
   "source": [
    "with open('gbm_test.zip', 'wb') as f:\n",
    "    for chunk in r.iter_content(8192):\n",
    "        f.write(chunk)"
   ]
  },
  {
   "cell_type": "markdown",
   "metadata": {},
   "source": [
    "The MOJO file could then be loaded in a spark application for scoring (http://www.highdimensional.space/2017/12/19/scoring-h2o-mojo-models-with-spark-dataframe-and-dataset/)"
   ]
  }
 ],
 "metadata": {
  "kernelspec": {
   "display_name": "Python 3",
   "language": "python",
   "name": "python3"
  },
  "language_info": {
   "codemirror_mode": {
    "name": "ipython",
    "version": 3
   },
   "file_extension": ".py",
   "mimetype": "text/x-python",
   "name": "python",
   "nbconvert_exporter": "python",
   "pygments_lexer": "ipython3",
   "version": "3.7.0"
  }
 },
 "nbformat": 4,
 "nbformat_minor": 2
}
